{
 "cells": [
  {
   "cell_type": "code",
   "execution_count": 1,
   "metadata": {},
   "outputs": [],
   "source": [
    "import json\n",
    "from matplotlib import pyplot as plt\n",
    "import numpy as np\n",
    "from openai import OpenAI\n",
    "import os\n",
    "from scipy.stats import gaussian_kde\n",
    "from typing import Optional, Tuple"
   ]
  },
  {
   "cell_type": "code",
   "execution_count": 2,
   "metadata": {},
   "outputs": [],
   "source": [
    "assert os.environ[\"OPENAI_API_KEY\"], \"ERROR: No OPENAI_API_KEY environment variable defined\""
   ]
  },
  {
   "cell_type": "code",
   "execution_count": 3,
   "metadata": {},
   "outputs": [],
   "source": [
    "client = OpenAI(\n",
    "    api_key=os.environ[\"OPENAI_API_KEY\"],\n",
    ")"
   ]
  },
  {
   "cell_type": "code",
   "execution_count": 4,
   "metadata": {},
   "outputs": [],
   "source": [
    "def get_linprob(logprob: float) -> float:\n",
    "    return np.round(np.exp(logprob) * 100.0, 2)"
   ]
  },
  {
   "cell_type": "code",
   "execution_count": 5,
   "metadata": {},
   "outputs": [
    {
     "name": "stdout",
     "output_type": "stream",
     "text": [
      "99.99\n"
     ]
    }
   ],
   "source": [
    "print(get_linprob(-0.00011129))"
   ]
  },
  {
   "cell_type": "code",
   "execution_count": 6,
   "metadata": {},
   "outputs": [],
   "source": [
    "def run(user_prompt: str, system_prompt: Optional[str] = None) -> Tuple[float, float]:\n",
    "    if system_prompt is None:\n",
    "        system_prompt = \"Return JSON output where the answer is specified as a single numerical value in the `answer` field.\"\n",
    "    \n",
    "    completion = client.chat.completions.create(\n",
    "        model=\"gpt-4o\",\n",
    "        messages=[\n",
    "            {\"role\": \"system\", \"content\": system_prompt},\n",
    "            {\"role\": \"user\", \"content\": user_prompt},\n",
    "        ],\n",
    "        response_format={\"type\": \"json_object\"},\n",
    "        logprobs=True,\n",
    "        top_logprobs=2,\n",
    "        temperature=0.1,\n",
    "    )\n",
    "\n",
    "    answer = json.loads(completion.choices[0].message.content)[\"answer\"]\n",
    "    logprob = completion.choices[0].logprobs.content[8].logprob\n",
    "    linprob = get_linprob(logprob)\n",
    "\n",
    "    return (answer, linprob)"
   ]
  },
  {
   "cell_type": "code",
   "execution_count": null,
   "metadata": {},
   "outputs": [],
   "source": [
    "answer, linprob = run(user_prompt=\"9.11 or 9.9 - which one is higher?\")\n",
    "\n",
    "print(answer, linprob)"
   ]
  },
  {
   "cell_type": "code",
   "execution_count": 14,
   "metadata": {},
   "outputs": [],
   "source": [
    "num_trials = 1_000\n",
    "correct_answer = 9.9"
   ]
  },
  {
   "cell_type": "code",
   "execution_count": 13,
   "metadata": {},
   "outputs": [],
   "source": [
    "def run_experiment(num_trials: int, correct_answer: float, user_prompt: str, system_prompt: Optional[str] = None) -> None:\n",
    "    trial_results = []\n",
    "    trial_linprobs = []\n",
    "\n",
    "    for ix in range(num_trials):\n",
    "        answer, linprob = run(\n",
    "            user_prompt=user_prompt,\n",
    "            system_prompt=system_prompt,\n",
    "        )\n",
    "        trial_results.append(answer == correct_answer)\n",
    "        trial_linprobs.append(linprob)\n",
    "\n",
    "    p_correct = np.round(sum(trial_results) / len(trial_results) * 100.0, 2)\n",
    "\n",
    "    print(\"<USER_PROMPT>:\", user_prompt)\n",
    "    print(\"<SYSTEM_PROMPT>:\", system_prompt)\n",
    "    print(\"P(CORRECT) = \", p_correct)\n",
    "\n",
    "    kde = gaussian_kde(trial_linprobs)\n",
    "    dist_space = np.linspace(min(trial_linprobs), max(trial_linprobs), 100)\n",
    "    plt.plot(dist_space, kde(dist_space))\n",
    "    plt.show()"
   ]
  },
  {
   "cell_type": "code",
   "execution_count": null,
   "metadata": {},
   "outputs": [],
   "source": [
    "user_prompt = \"9.11 or 9.9 - which one is higher?\"\n",
    "\n",
    "run_experiment(num_trials, correct_answer, user_prompt)"
   ]
  },
  {
   "cell_type": "code",
   "execution_count": null,
   "metadata": {},
   "outputs": [],
   "source": [
    "user_prompt = \"Which one is higher, 9.11 or 9.9?\"\n",
    "\n",
    "run_experiment(num_trials, correct_answer, user_prompt)"
   ]
  },
  {
   "cell_type": "code",
   "execution_count": null,
   "metadata": {},
   "outputs": [],
   "source": [
    "user_prompt = \"Which one is higher, 9.11 or 9.9? Provide reasoning as to how you obtained the answer in `reasoning` field.\"\n",
    "\n",
    "run_experiment(num_trials, correct_answer, user_prompt)"
   ]
  },
  {
   "cell_type": "code",
   "execution_count": null,
   "metadata": {},
   "outputs": [],
   "source": [
    "user_prompt = \"Which one is higher, 9.11 or 9.9?\"\n",
    "system_prompt = \"\"\"\n",
    "Return JSON output where the answer is specified as a single numerical value in the `answer` field.\n",
    "Provide reasoning as to how you obtained the answer in `reasoning` field.\n",
    "\"\"\"\n",
    "\n",
    "run_experiment(num_trials, correct_answer, user_prompt, system_prompt)"
   ]
  }
 ],
 "metadata": {
  "kernelspec": {
   "display_name": "gpt4-prompt-uncertainty",
   "language": "python",
   "name": "python3"
  },
  "language_info": {
   "codemirror_mode": {
    "name": "ipython",
    "version": 3
   },
   "file_extension": ".py",
   "mimetype": "text/x-python",
   "name": "python",
   "nbconvert_exporter": "python",
   "pygments_lexer": "ipython3",
   "version": "3.10.0"
  }
 },
 "nbformat": 4,
 "nbformat_minor": 2
}
